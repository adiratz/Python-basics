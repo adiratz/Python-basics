{
 "cells": [
  {
   "cell_type": "code",
   "execution_count": 1,
   "metadata": {},
   "outputs": [],
   "source": [
    "import pandas as pd "
   ]
  },
  {
   "cell_type": "code",
   "execution_count": 2,
   "metadata": {},
   "outputs": [],
   "source": [
    "import seaborn as sns"
   ]
  },
  {
   "cell_type": "code",
   "execution_count": 3,
   "metadata": {},
   "outputs": [],
   "source": [
    "nba=pd.read_excel('NBA2018(2).xlsx')"
   ]
  },
  {
   "cell_type": "markdown",
   "metadata": {},
   "source": [
    "# Q1 \n",
    "511 players\n",
    "Columns - player, salary, season_end, season_start, team, team_name"
   ]
  },
  {
   "cell_type": "code",
   "execution_count": 14,
   "metadata": {},
   "outputs": [
    {
     "name": "stdout",
     "output_type": "stream",
     "text": [
      "column names: Index(['Unnamed: 0', 'player', 'salary', 'season_end', 'season_start', 'team',\n",
      "       'team_name'],\n",
      "      dtype='object') \n",
      "\n",
      "<class 'pandas.core.frame.DataFrame'>\n",
      "RangeIndex: 512 entries, 0 to 511\n",
      "Data columns (total 7 columns):\n",
      "Unnamed: 0      512 non-null int64\n",
      "player          512 non-null object\n",
      "salary          512 non-null int64\n",
      "season_end      512 non-null int64\n",
      "season_start    512 non-null int64\n",
      "team            512 non-null object\n",
      "team_name       512 non-null object\n",
      "dtypes: int64(4), object(3)\n",
      "memory usage: 28.1+ KB\n",
      "None\n",
      "<class 'pandas.core.frame.DataFrame'>\n",
      "RangeIndex: 512 entries, 0 to 511\n",
      "Data columns (total 7 columns):\n",
      "Unnamed: 0      512 non-null int64\n",
      "player          512 non-null object\n",
      "salary          512 non-null int64\n",
      "season_end      512 non-null int64\n",
      "season_start    512 non-null int64\n",
      "team            512 non-null object\n",
      "team_name       512 non-null object\n",
      "dtypes: int64(4), object(3)\n",
      "memory usage: 28.1+ KB\n"
     ]
    }
   ],
   "source": [
    "print('column names:', nba.columns,'\\n')\n",
    "print(nba.info())"
   ]
  },
  {
   "cell_type": "markdown",
   "metadata": {},
   "source": [
    "# Q2\n",
    "30 teams\n",
    "ATL    23\n",
    "BOS    15\n",
    "CHA    14\n",
    "CHI    20\n",
    "CLE    15\n",
    "DAL    17\n",
    "DEN    16\n",
    "DET    18\n",
    "GSW    16\n",
    "HOU    17\n",
    "IND    17\n",
    "LAC    18\n",
    "LAL    19\n",
    "MEM    17\n",
    "MIA    16\n",
    "MIL    18\n",
    "MIN    16\n",
    "NJN    16\n",
    "NOH    19\n",
    "NYK    19\n",
    "OKC    15\n",
    "ORL    16\n",
    "PHI    17\n",
    "PHO    16\n",
    "POR    17\n",
    "SAC    19\n",
    "SAS    17\n",
    "TOR    16\n",
    "UTA    16\n",
    "WAS    17"
   ]
  },
  {
   "cell_type": "code",
   "execution_count": 24,
   "metadata": {},
   "outputs": [
    {
     "name": "stdout",
     "output_type": "stream",
     "text": [
      "team\n",
      "ATL    23\n",
      "BOS    15\n",
      "CHA    14\n",
      "CHI    20\n",
      "CLE    15\n",
      "DAL    17\n",
      "DEN    16\n",
      "DET    18\n",
      "GSW    16\n",
      "HOU    17\n",
      "IND    17\n",
      "LAC    18\n",
      "LAL    19\n",
      "MEM    17\n",
      "MIA    16\n",
      "MIL    18\n",
      "MIN    16\n",
      "NJN    16\n",
      "NOH    19\n",
      "NYK    19\n",
      "OKC    15\n",
      "ORL    16\n",
      "PHI    17\n",
      "PHO    16\n",
      "POR    17\n",
      "SAC    19\n",
      "SAS    17\n",
      "TOR    16\n",
      "UTA    16\n",
      "WAS    17\n",
      "Name: player, dtype: int64\n"
     ]
    }
   ],
   "source": [
    "len(nba['team'].unique()) ##number of teams\n",
    "print(nba.groupby('team')['player'].count()) ##number of players in each team"
   ]
  },
  {
   "cell_type": "markdown",
   "metadata": {},
   "source": [
    "# Q3\n",
    "10 players with highest salary-\n",
    "Stephen Curry\n",
    "LeBron James\n",
    "Paul Millsap\n",
    "Gordon Hayward\n",
    "Blake Griffin\n",
    "Kyle Lowry\n",
    "Russell Westbrook\n",
    "Mike Conley\n",
    "James Harden\n",
    "DeMar DeRozan"
   ]
  },
  {
   "cell_type": "code",
   "execution_count": 26,
   "metadata": {},
   "outputs": [
    {
     "name": "stdout",
     "output_type": "stream",
     "text": [
      "                player    salary\n",
      "444      Stephen Curry  34682550\n",
      "311       LeBron James  33285709\n",
      "393       Paul Millsap  31269231\n",
      "175     Gordon Hayward  29727900\n",
      "39       Blake Griffin  29512900\n",
      "300         Kyle Lowry  28703704\n",
      "424  Russell Westbrook  28530608\n",
      "352        Mike Conley  28530608\n",
      "212       James Harden  28299399\n",
      "110      DeMar DeRozan  27739975\n"
     ]
    },
    {
     "data": {
      "text/html": [
       "<div>\n",
       "<style scoped>\n",
       "    .dataframe tbody tr th:only-of-type {\n",
       "        vertical-align: middle;\n",
       "    }\n",
       "\n",
       "    .dataframe tbody tr th {\n",
       "        vertical-align: top;\n",
       "    }\n",
       "\n",
       "    .dataframe thead th {\n",
       "        text-align: right;\n",
       "    }\n",
       "</style>\n",
       "<table border=\"1\" class=\"dataframe\">\n",
       "  <thead>\n",
       "    <tr style=\"text-align: right;\">\n",
       "      <th></th>\n",
       "      <th>Unnamed: 0</th>\n",
       "      <th>player</th>\n",
       "      <th>salary</th>\n",
       "      <th>season_end</th>\n",
       "      <th>season_start</th>\n",
       "      <th>team</th>\n",
       "      <th>team_name</th>\n",
       "    </tr>\n",
       "  </thead>\n",
       "  <tbody>\n",
       "    <tr>\n",
       "      <th>444</th>\n",
       "      <td>444</td>\n",
       "      <td>Stephen Curry</td>\n",
       "      <td>34682550</td>\n",
       "      <td>2018</td>\n",
       "      <td>2017</td>\n",
       "      <td>GSW</td>\n",
       "      <td>Golden State Warriors</td>\n",
       "    </tr>\n",
       "    <tr>\n",
       "      <th>311</th>\n",
       "      <td>311</td>\n",
       "      <td>LeBron James</td>\n",
       "      <td>33285709</td>\n",
       "      <td>2018</td>\n",
       "      <td>2017</td>\n",
       "      <td>CLE</td>\n",
       "      <td>Cleveland Caveliers</td>\n",
       "    </tr>\n",
       "    <tr>\n",
       "      <th>393</th>\n",
       "      <td>393</td>\n",
       "      <td>Paul Millsap</td>\n",
       "      <td>31269231</td>\n",
       "      <td>2018</td>\n",
       "      <td>2017</td>\n",
       "      <td>DEN</td>\n",
       "      <td>Denver Nuggets</td>\n",
       "    </tr>\n",
       "    <tr>\n",
       "      <th>175</th>\n",
       "      <td>175</td>\n",
       "      <td>Gordon Hayward</td>\n",
       "      <td>29727900</td>\n",
       "      <td>2018</td>\n",
       "      <td>2017</td>\n",
       "      <td>BOS</td>\n",
       "      <td>Boston Celtic</td>\n",
       "    </tr>\n",
       "    <tr>\n",
       "      <th>39</th>\n",
       "      <td>39</td>\n",
       "      <td>Blake Griffin</td>\n",
       "      <td>29512900</td>\n",
       "      <td>2018</td>\n",
       "      <td>2017</td>\n",
       "      <td>LAC</td>\n",
       "      <td>Los Angeles Clippers</td>\n",
       "    </tr>\n",
       "    <tr>\n",
       "      <th>300</th>\n",
       "      <td>300</td>\n",
       "      <td>Kyle Lowry</td>\n",
       "      <td>28703704</td>\n",
       "      <td>2018</td>\n",
       "      <td>2017</td>\n",
       "      <td>TOR</td>\n",
       "      <td>Toronto Raptors</td>\n",
       "    </tr>\n",
       "    <tr>\n",
       "      <th>424</th>\n",
       "      <td>424</td>\n",
       "      <td>Russell Westbrook</td>\n",
       "      <td>28530608</td>\n",
       "      <td>2018</td>\n",
       "      <td>2017</td>\n",
       "      <td>OKC</td>\n",
       "      <td>Oklahoma City Thunder</td>\n",
       "    </tr>\n",
       "    <tr>\n",
       "      <th>352</th>\n",
       "      <td>352</td>\n",
       "      <td>Mike Conley</td>\n",
       "      <td>28530608</td>\n",
       "      <td>2018</td>\n",
       "      <td>2017</td>\n",
       "      <td>MEM</td>\n",
       "      <td>Memphis Grizzlies</td>\n",
       "    </tr>\n",
       "    <tr>\n",
       "      <th>212</th>\n",
       "      <td>212</td>\n",
       "      <td>James Harden</td>\n",
       "      <td>28299399</td>\n",
       "      <td>2018</td>\n",
       "      <td>2017</td>\n",
       "      <td>HOU</td>\n",
       "      <td>Houston Rockets</td>\n",
       "    </tr>\n",
       "    <tr>\n",
       "      <th>110</th>\n",
       "      <td>110</td>\n",
       "      <td>DeMar DeRozan</td>\n",
       "      <td>27739975</td>\n",
       "      <td>2018</td>\n",
       "      <td>2017</td>\n",
       "      <td>TOR</td>\n",
       "      <td>Toronto Raptors</td>\n",
       "    </tr>\n",
       "  </tbody>\n",
       "</table>\n",
       "</div>"
      ],
      "text/plain": [
       "     Unnamed: 0             player    salary  season_end  season_start team  \\\n",
       "444         444      Stephen Curry  34682550        2018          2017  GSW   \n",
       "311         311       LeBron James  33285709        2018          2017  CLE   \n",
       "393         393       Paul Millsap  31269231        2018          2017  DEN   \n",
       "175         175     Gordon Hayward  29727900        2018          2017  BOS   \n",
       "39           39      Blake Griffin  29512900        2018          2017  LAC   \n",
       "300         300         Kyle Lowry  28703704        2018          2017  TOR   \n",
       "424         424  Russell Westbrook  28530608        2018          2017  OKC   \n",
       "352         352        Mike Conley  28530608        2018          2017  MEM   \n",
       "212         212       James Harden  28299399        2018          2017  HOU   \n",
       "110         110      DeMar DeRozan  27739975        2018          2017  TOR   \n",
       "\n",
       "                 team_name  \n",
       "444  Golden State Warriors  \n",
       "311    Cleveland Caveliers  \n",
       "393         Denver Nuggets  \n",
       "175          Boston Celtic  \n",
       "39    Los Angeles Clippers  \n",
       "300       Toronto Raptors   \n",
       "424  Oklahoma City Thunder  \n",
       "352      Memphis Grizzlies  \n",
       "212        Houston Rockets  \n",
       "110       Toronto Raptors   "
      ]
     },
     "execution_count": 26,
     "metadata": {},
     "output_type": "execute_result"
    }
   ],
   "source": [
    "hs=nba.sort_values(by='salary', ascending=False).head(10)\n",
    "print(hs[['player','salary']])"
   ]
  },
  {
   "cell_type": "markdown",
   "metadata": {},
   "source": [
    "# Q4\n",
    "horizontal bar chart of the 10 players with highest salary"
   ]
  },
  {
   "cell_type": "code",
   "execution_count": 75,
   "metadata": {},
   "outputs": [
    {
     "data": {
      "text/plain": [
       "<matplotlib.axes._subplots.AxesSubplot at 0x1a21f659b0>"
      ]
     },
     "execution_count": 75,
     "metadata": {},
     "output_type": "execute_result"
    },
    {
     "data": {
      "image/png": "[encoded data removed]",
      "text/plain": [
       "<Figure size 432x288 with 1 Axes>"
      ]
     },
     "metadata": {
      "needs_background": "light"
     },
     "output_type": "display_data"
    }
   ],
   "source": [
    "sns.barplot(x=\"salary\", y=\"player\", data=hs)"
   ]
  },
  {
   "cell_type": "markdown",
   "metadata": {},
   "source": [
    "# Q5\n",
    "Highest salary of each team"
   ]
  },
  {
   "cell_type": "code",
   "execution_count": 32,
   "metadata": {},
   "outputs": [
    {
     "data": {
      "text/plain": [
       "team\n",
       "ATL    16910113\n",
       "BOS    29727900\n",
       "CHA    23500000\n",
       "CHI    15550000\n",
       "CLE    33285709\n",
       "DAL    23112004\n",
       "DEN    31269231\n",
       "DET    23775506\n",
       "GSW    34682550\n",
       "HOU    28299399\n",
       "IND    21000000\n",
       "LAC    29512900\n",
       "LAL    22642350\n",
       "MEM    28530608\n",
       "MIA    25289390\n",
       "MIL    22471910\n",
       "MIN    19301070\n",
       "NJN    19332500\n",
       "NOH    25686667\n",
       "NYK    20566802\n",
       "OKC    28530608\n",
       "ORL    17000000\n",
       "PHI    23000000\n",
       "PHO    17884176\n",
       "POR    26153057\n",
       "SAC    20000000\n",
       "SAS    21461010\n",
       "TOR    28703704\n",
       "UTA    21974719\n",
       "WAS    24773250\n",
       "Name: salary, dtype: int64"
      ]
     },
     "execution_count": 32,
     "metadata": {},
     "output_type": "execute_result"
    }
   ],
   "source": [
    "nba.groupby('team')['salary'].max()"
   ]
  },
  {
   "cell_type": "markdown",
   "metadata": {},
   "source": [
    "# Q6\n",
    "Highest paid players of each team"
   ]
  },
  {
   "cell_type": "code",
   "execution_count": 41,
   "metadata": {},
   "outputs": [
    {
     "data": {
      "text/html": [
       "<div>\n",
       "<style scoped>\n",
       "    .dataframe tbody tr th:only-of-type {\n",
       "        vertical-align: middle;\n",
       "    }\n",
       "\n",
       "    .dataframe tbody tr th {\n",
       "        vertical-align: top;\n",
       "    }\n",
       "\n",
       "    .dataframe thead th {\n",
       "        text-align: right;\n",
       "    }\n",
       "</style>\n",
       "<table border=\"1\" class=\"dataframe\">\n",
       "  <thead>\n",
       "    <tr style=\"text-align: right;\">\n",
       "      <th></th>\n",
       "      <th>player</th>\n",
       "      <th>salary</th>\n",
       "      <th>team</th>\n",
       "    </tr>\n",
       "  </thead>\n",
       "  <tbody>\n",
       "    <tr>\n",
       "      <th>14</th>\n",
       "      <td>Allen Crabbe</td>\n",
       "      <td>19332500</td>\n",
       "      <td>NJN</td>\n",
       "    </tr>\n",
       "    <tr>\n",
       "      <th>17</th>\n",
       "      <td>Andre Drummond</td>\n",
       "      <td>23775506</td>\n",
       "      <td>DET</td>\n",
       "    </tr>\n",
       "    <tr>\n",
       "      <th>38</th>\n",
       "      <td>Bismack Biyombo</td>\n",
       "      <td>17000000</td>\n",
       "      <td>ORL</td>\n",
       "    </tr>\n",
       "    <tr>\n",
       "      <th>39</th>\n",
       "      <td>Blake Griffin</td>\n",
       "      <td>29512900</td>\n",
       "      <td>LAC</td>\n",
       "    </tr>\n",
       "    <tr>\n",
       "      <th>52</th>\n",
       "      <td>Brook Lopez</td>\n",
       "      <td>22642350</td>\n",
       "      <td>LAL</td>\n",
       "    </tr>\n",
       "    <tr>\n",
       "      <th>73</th>\n",
       "      <td>Chris Bosh</td>\n",
       "      <td>25289390</td>\n",
       "      <td>MIA</td>\n",
       "    </tr>\n",
       "    <tr>\n",
       "      <th>89</th>\n",
       "      <td>Damian Lillard</td>\n",
       "      <td>26153057</td>\n",
       "      <td>POR</td>\n",
       "    </tr>\n",
       "    <tr>\n",
       "      <th>141</th>\n",
       "      <td>Dwight Howard</td>\n",
       "      <td>23500000</td>\n",
       "      <td>CHA</td>\n",
       "    </tr>\n",
       "    <tr>\n",
       "      <th>143</th>\n",
       "      <td>Dwyane Wade</td>\n",
       "      <td>15550000</td>\n",
       "      <td>CHI</td>\n",
       "    </tr>\n",
       "    <tr>\n",
       "      <th>150</th>\n",
       "      <td>Enes Kanter</td>\n",
       "      <td>20566802</td>\n",
       "      <td>NYK</td>\n",
       "    </tr>\n",
       "    <tr>\n",
       "      <th>155</th>\n",
       "      <td>Evan Fournier</td>\n",
       "      <td>17000000</td>\n",
       "      <td>ORL</td>\n",
       "    </tr>\n",
       "    <tr>\n",
       "      <th>167</th>\n",
       "      <td>George Hill</td>\n",
       "      <td>20000000</td>\n",
       "      <td>SAC</td>\n",
       "    </tr>\n",
       "    <tr>\n",
       "      <th>172</th>\n",
       "      <td>Giannis Antetokounmpo</td>\n",
       "      <td>22471910</td>\n",
       "      <td>MIL</td>\n",
       "    </tr>\n",
       "    <tr>\n",
       "      <th>175</th>\n",
       "      <td>Gordon Hayward</td>\n",
       "      <td>29727900</td>\n",
       "      <td>BOS</td>\n",
       "    </tr>\n",
       "    <tr>\n",
       "      <th>177</th>\n",
       "      <td>Greg Monroe</td>\n",
       "      <td>17884176</td>\n",
       "      <td>PHO</td>\n",
       "    </tr>\n",
       "    <tr>\n",
       "      <th>179</th>\n",
       "      <td>Harrison Barnes</td>\n",
       "      <td>23112004</td>\n",
       "      <td>DAL</td>\n",
       "    </tr>\n",
       "    <tr>\n",
       "      <th>196</th>\n",
       "      <td>J.J. Redick</td>\n",
       "      <td>23000000</td>\n",
       "      <td>PHI</td>\n",
       "    </tr>\n",
       "    <tr>\n",
       "      <th>212</th>\n",
       "      <td>James Harden</td>\n",
       "      <td>28299399</td>\n",
       "      <td>HOU</td>\n",
       "    </tr>\n",
       "    <tr>\n",
       "      <th>234</th>\n",
       "      <td>Jimmy Butler</td>\n",
       "      <td>19301070</td>\n",
       "      <td>MIN</td>\n",
       "    </tr>\n",
       "    <tr>\n",
       "      <th>266</th>\n",
       "      <td>Jrue Holiday</td>\n",
       "      <td>25686667</td>\n",
       "      <td>NOH</td>\n",
       "    </tr>\n",
       "    <tr>\n",
       "      <th>285</th>\n",
       "      <td>Kent Bazemore</td>\n",
       "      <td>16910113</td>\n",
       "      <td>ATL</td>\n",
       "    </tr>\n",
       "    <tr>\n",
       "      <th>300</th>\n",
       "      <td>Kyle Lowry</td>\n",
       "      <td>28703704</td>\n",
       "      <td>TOR</td>\n",
       "    </tr>\n",
       "    <tr>\n",
       "      <th>304</th>\n",
       "      <td>LaMarcus Aldridge</td>\n",
       "      <td>21461010</td>\n",
       "      <td>SAS</td>\n",
       "    </tr>\n",
       "    <tr>\n",
       "      <th>311</th>\n",
       "      <td>LeBron James</td>\n",
       "      <td>33285709</td>\n",
       "      <td>CLE</td>\n",
       "    </tr>\n",
       "    <tr>\n",
       "      <th>352</th>\n",
       "      <td>Mike Conley</td>\n",
       "      <td>28530608</td>\n",
       "      <td>MEM</td>\n",
       "    </tr>\n",
       "    <tr>\n",
       "      <th>383</th>\n",
       "      <td>Otto Porter</td>\n",
       "      <td>24773250</td>\n",
       "      <td>WAS</td>\n",
       "    </tr>\n",
       "    <tr>\n",
       "      <th>393</th>\n",
       "      <td>Paul Millsap</td>\n",
       "      <td>31269231</td>\n",
       "      <td>DEN</td>\n",
       "    </tr>\n",
       "    <tr>\n",
       "      <th>423</th>\n",
       "      <td>Rudy Gobert</td>\n",
       "      <td>21974719</td>\n",
       "      <td>UTA</td>\n",
       "    </tr>\n",
       "    <tr>\n",
       "      <th>424</th>\n",
       "      <td>Russell Westbrook</td>\n",
       "      <td>28530608</td>\n",
       "      <td>OKC</td>\n",
       "    </tr>\n",
       "    <tr>\n",
       "      <th>444</th>\n",
       "      <td>Stephen Curry</td>\n",
       "      <td>34682550</td>\n",
       "      <td>GSW</td>\n",
       "    </tr>\n",
       "    <tr>\n",
       "      <th>493</th>\n",
       "      <td>Victor Oladipo</td>\n",
       "      <td>21000000</td>\n",
       "      <td>IND</td>\n",
       "    </tr>\n",
       "  </tbody>\n",
       "</table>\n",
       "</div>"
      ],
      "text/plain": [
       "                    player    salary team\n",
       "14            Allen Crabbe  19332500  NJN\n",
       "17          Andre Drummond  23775506  DET\n",
       "38         Bismack Biyombo  17000000  ORL\n",
       "39           Blake Griffin  29512900  LAC\n",
       "52             Brook Lopez  22642350  LAL\n",
       "73              Chris Bosh  25289390  MIA\n",
       "89          Damian Lillard  26153057  POR\n",
       "141          Dwight Howard  23500000  CHA\n",
       "143            Dwyane Wade  15550000  CHI\n",
       "150            Enes Kanter  20566802  NYK\n",
       "155          Evan Fournier  17000000  ORL\n",
       "167            George Hill  20000000  SAC\n",
       "172  Giannis Antetokounmpo  22471910  MIL\n",
       "175         Gordon Hayward  29727900  BOS\n",
       "177            Greg Monroe  17884176  PHO\n",
       "179        Harrison Barnes  23112004  DAL\n",
       "196            J.J. Redick  23000000  PHI\n",
       "212           James Harden  28299399  HOU\n",
       "234           Jimmy Butler  19301070  MIN\n",
       "266           Jrue Holiday  25686667  NOH\n",
       "285          Kent Bazemore  16910113  ATL\n",
       "300             Kyle Lowry  28703704  TOR\n",
       "304      LaMarcus Aldridge  21461010  SAS\n",
       "311           LeBron James  33285709  CLE\n",
       "352            Mike Conley  28530608  MEM\n",
       "383            Otto Porter  24773250  WAS\n",
       "393           Paul Millsap  31269231  DEN\n",
       "423            Rudy Gobert  21974719  UTA\n",
       "424      Russell Westbrook  28530608  OKC\n",
       "444          Stephen Curry  34682550  GSW\n",
       "493         Victor Oladipo  21000000  IND"
      ]
     },
     "execution_count": 41,
     "metadata": {},
     "output_type": "execute_result"
    }
   ],
   "source": [
    "idx = nba.groupby(['team'])['salary'].transform(max) == nba['salary']\n",
    "nba[idx][['player','salary','team']].sort_values(by=['team'])"
   ]
  },
  {
   "cell_type": "markdown",
   "metadata": {},
   "source": [
    "# Q7\n",
    "Number of players with alaries between 15000000 and 25000000"
   ]
  },
  {
   "cell_type": "code",
   "execution_count": 35,
   "metadata": {},
   "outputs": [
    {
     "data": {
      "text/plain": [
       "59"
      ]
     },
     "execution_count": 35,
     "metadata": {},
     "output_type": "execute_result"
    }
   ],
   "source": [
    "nba[(nba['salary'] >= 15000000) & (nba['salary'] <= 25000000)].player.count()"
   ]
  },
  {
   "cell_type": "markdown",
   "metadata": {},
   "source": [
    "# Q8\n",
    "List of players with first name 'James'"
   ]
  },
  {
   "cell_type": "code",
   "execution_count": 45,
   "metadata": {
    "scrolled": true
   },
   "outputs": [
    {
     "data": {
      "text/html": [
       "<div>\n",
       "<style scoped>\n",
       "    .dataframe tbody tr th:only-of-type {\n",
       "        vertical-align: middle;\n",
       "    }\n",
       "\n",
       "    .dataframe tbody tr th {\n",
       "        vertical-align: top;\n",
       "    }\n",
       "\n",
       "    .dataframe thead th {\n",
       "        text-align: right;\n",
       "    }\n",
       "</style>\n",
       "<table border=\"1\" class=\"dataframe\">\n",
       "  <thead>\n",
       "    <tr style=\"text-align: right;\">\n",
       "      <th></th>\n",
       "      <th>player</th>\n",
       "      <th>team</th>\n",
       "    </tr>\n",
       "  </thead>\n",
       "  <tbody>\n",
       "    <tr>\n",
       "      <th>211</th>\n",
       "      <td>James Ennis</td>\n",
       "      <td>MEM</td>\n",
       "    </tr>\n",
       "    <tr>\n",
       "      <th>212</th>\n",
       "      <td>James Harden</td>\n",
       "      <td>HOU</td>\n",
       "    </tr>\n",
       "    <tr>\n",
       "      <th>213</th>\n",
       "      <td>James Johnson</td>\n",
       "      <td>MIA</td>\n",
       "    </tr>\n",
       "  </tbody>\n",
       "</table>\n",
       "</div>"
      ],
      "text/plain": [
       "            player team\n",
       "211    James Ennis  MEM\n",
       "212   James Harden  HOU\n",
       "213  James Johnson  MIA"
      ]
     },
     "execution_count": 45,
     "metadata": {},
     "output_type": "execute_result"
    }
   ],
   "source": [
    "nba[nba['player'].str.match('James')][['player','team']]"
   ]
  },
  {
   "cell_type": "markdown",
   "metadata": {},
   "source": [
    "# Q9\n",
    "Subset of Golden State Warriors\n",
    "Top 5 highest paid players at GSW"
   ]
  },
  {
   "cell_type": "code",
   "execution_count": 50,
   "metadata": {},
   "outputs": [
    {
     "data": {
      "text/html": [
       "<div>\n",
       "<style scoped>\n",
       "    .dataframe tbody tr th:only-of-type {\n",
       "        vertical-align: middle;\n",
       "    }\n",
       "\n",
       "    .dataframe tbody tr th {\n",
       "        vertical-align: top;\n",
       "    }\n",
       "\n",
       "    .dataframe thead th {\n",
       "        text-align: right;\n",
       "    }\n",
       "</style>\n",
       "<table border=\"1\" class=\"dataframe\">\n",
       "  <thead>\n",
       "    <tr style=\"text-align: right;\">\n",
       "      <th></th>\n",
       "      <th>player</th>\n",
       "      <th>salary</th>\n",
       "      <th>team</th>\n",
       "    </tr>\n",
       "  </thead>\n",
       "  <tbody>\n",
       "    <tr>\n",
       "      <th>444</th>\n",
       "      <td>Stephen Curry</td>\n",
       "      <td>34682550</td>\n",
       "      <td>GSW</td>\n",
       "    </tr>\n",
       "    <tr>\n",
       "      <th>287</th>\n",
       "      <td>Kevin Durant</td>\n",
       "      <td>25000000</td>\n",
       "      <td>GSW</td>\n",
       "    </tr>\n",
       "    <tr>\n",
       "      <th>293</th>\n",
       "      <td>Klay Thompson</td>\n",
       "      <td>17826150</td>\n",
       "      <td>GSW</td>\n",
       "    </tr>\n",
       "    <tr>\n",
       "      <th>139</th>\n",
       "      <td>Draymond Green</td>\n",
       "      <td>16400000</td>\n",
       "      <td>GSW</td>\n",
       "    </tr>\n",
       "    <tr>\n",
       "      <th>18</th>\n",
       "      <td>Andre Iguodala</td>\n",
       "      <td>14814815</td>\n",
       "      <td>GSW</td>\n",
       "    </tr>\n",
       "  </tbody>\n",
       "</table>\n",
       "</div>"
      ],
      "text/plain": [
       "             player    salary team\n",
       "444   Stephen Curry  34682550  GSW\n",
       "287    Kevin Durant  25000000  GSW\n",
       "293   Klay Thompson  17826150  GSW\n",
       "139  Draymond Green  16400000  GSW\n",
       "18   Andre Iguodala  14814815  GSW"
      ]
     },
     "execution_count": 50,
     "metadata": {},
     "output_type": "execute_result"
    }
   ],
   "source": [
    "GSW= nba[nba['team'].str.match('GSW')]\n",
    "GSW.sort_values(by='salary', ascending=False).head(5)[['player','salary','team']]"
   ]
  },
  {
   "cell_type": "markdown",
   "metadata": {},
   "source": [
    "# Q10\n",
    "Subset of CLE, highest and lowest paid player of CLE, how many times the pay of lowest"
   ]
  },
  {
   "cell_type": "code",
   "execution_count": 65,
   "metadata": {},
   "outputs": [
    {
     "name": "stdout",
     "output_type": "stream",
     "text": [
      "diff 31640509\n",
      "multiple 20.23201373693168\n"
     ]
    }
   ],
   "source": [
    "CLE= nba[nba['team'].str.match('CLE')]\n",
    "h =CLE.sort_values(by='salary', ascending=False).head(1) #highest\n",
    "l =CLE.sort_values(by='salary').head(1) #lowest\n",
    "print('diff',CLE.salary.max()-CLE.salary.min()) #difference between salaries\n",
    "print('multiple',CLE.salary.max()/CLE.salary.min()) #highest salary the number of times of lowest salary"
   ]
  },
  {
   "cell_type": "markdown",
   "metadata": {},
   "source": [
    "# Q11\n",
    "Combine GSW & CLE\n",
    "Top 4 paid players in combined set\n",
    "Total salary of these 4 "
   ]
  },
  {
   "cell_type": "code",
   "execution_count": 71,
   "metadata": {},
   "outputs": [
    {
     "data": {
      "text/html": [
       "<div>\n",
       "<style scoped>\n",
       "    .dataframe tbody tr th:only-of-type {\n",
       "        vertical-align: middle;\n",
       "    }\n",
       "\n",
       "    .dataframe tbody tr th {\n",
       "        vertical-align: top;\n",
       "    }\n",
       "\n",
       "    .dataframe thead th {\n",
       "        text-align: right;\n",
       "    }\n",
       "</style>\n",
       "<table border=\"1\" class=\"dataframe\">\n",
       "  <thead>\n",
       "    <tr style=\"text-align: right;\">\n",
       "      <th></th>\n",
       "      <th>player</th>\n",
       "      <th>salary</th>\n",
       "      <th>team</th>\n",
       "    </tr>\n",
       "  </thead>\n",
       "  <tbody>\n",
       "    <tr>\n",
       "      <th>444</th>\n",
       "      <td>Stephen Curry</td>\n",
       "      <td>34682550</td>\n",
       "      <td>GSW</td>\n",
       "    </tr>\n",
       "    <tr>\n",
       "      <th>311</th>\n",
       "      <td>LeBron James</td>\n",
       "      <td>33285709</td>\n",
       "      <td>CLE</td>\n",
       "    </tr>\n",
       "    <tr>\n",
       "      <th>287</th>\n",
       "      <td>Kevin Durant</td>\n",
       "      <td>25000000</td>\n",
       "      <td>GSW</td>\n",
       "    </tr>\n",
       "    <tr>\n",
       "      <th>288</th>\n",
       "      <td>Kevin Love</td>\n",
       "      <td>22642350</td>\n",
       "      <td>CLE</td>\n",
       "    </tr>\n",
       "  </tbody>\n",
       "</table>\n",
       "</div>"
      ],
      "text/plain": [
       "            player    salary team\n",
       "444  Stephen Curry  34682550  GSW\n",
       "311   LeBron James  33285709  CLE\n",
       "287   Kevin Durant  25000000  GSW\n",
       "288     Kevin Love  22642350  CLE"
      ]
     },
     "execution_count": 71,
     "metadata": {},
     "output_type": "execute_result"
    }
   ],
   "source": [
    "combined=pd.concat([GSW,CLE], axis=0,sort=True)\n",
    "combined\n",
    "top4 =combined.sort_values(by='salary', ascending=False).head(4)\n",
    "top4[['player','salary','team']]\n"
   ]
  },
  {
   "cell_type": "code",
   "execution_count": 72,
   "metadata": {},
   "outputs": [
    {
     "data": {
      "text/plain": [
       "115610609"
      ]
     },
     "execution_count": 72,
     "metadata": {},
     "output_type": "execute_result"
    }
   ],
   "source": [
    "top4.salary.sum()"
   ]
  },
  {
   "cell_type": "code",
   "execution_count": 79,
   "metadata": {},
   "outputs": [
    {
     "name": "stdout",
     "output_type": "stream",
     "text": [
      "Requirement already satisfied: nbconvert in /Users/hiretual/anaconda3/lib/python3.7/site-packages (5.4.1)\n",
      "Requirement already satisfied: mistune>=0.8.1 in /Users/hiretual/anaconda3/lib/python3.7/site-packages (from nbconvert) (0.8.4)\n",
      "Requirement already satisfied: jinja2 in /Users/hiretual/anaconda3/lib/python3.7/site-packages (from nbconvert) (2.10)\n",
      "Requirement already satisfied: pygments in /Users/hiretual/anaconda3/lib/python3.7/site-packages (from nbconvert) (2.3.1)\n",
      "Requirement already satisfied: traitlets>=4.2 in /Users/hiretual/anaconda3/lib/python3.7/site-packages (from nbconvert) (4.3.2)\n",
      "Requirement already satisfied: jupyter_core in /Users/hiretual/anaconda3/lib/python3.7/site-packages (from nbconvert) (4.4.0)\n",
      "Requirement already satisfied: nbformat>=4.4 in /Users/hiretual/anaconda3/lib/python3.7/site-packages (from nbconvert) (4.4.0)\n",
      "Requirement already satisfied: entrypoints>=0.2.2 in /Users/hiretual/anaconda3/lib/python3.7/site-packages (from nbconvert) (0.3)\n",
      "Requirement already satisfied: bleach in /Users/hiretual/anaconda3/lib/python3.7/site-packages (from nbconvert) (3.1.0)\n",
      "Requirement already satisfied: pandocfilters>=1.4.1 in /Users/hiretual/anaconda3/lib/python3.7/site-packages (from nbconvert) (1.4.2)\n",
      "Requirement already satisfied: testpath in /Users/hiretual/anaconda3/lib/python3.7/site-packages (from nbconvert) (0.4.2)\n",
      "Requirement already satisfied: defusedxml in /Users/hiretual/anaconda3/lib/python3.7/site-packages (from nbconvert) (0.5.0)\n",
      "Requirement already satisfied: MarkupSafe>=0.23 in /Users/hiretual/anaconda3/lib/python3.7/site-packages (from jinja2->nbconvert) (1.1.1)\n",
      "Requirement already satisfied: six in /Users/hiretual/anaconda3/lib/python3.7/site-packages (from traitlets>=4.2->nbconvert) (1.12.0)\n",
      "Requirement already satisfied: ipython-genutils in /Users/hiretual/anaconda3/lib/python3.7/site-packages (from traitlets>=4.2->nbconvert) (0.2.0)\n",
      "Requirement already satisfied: decorator in /Users/hiretual/anaconda3/lib/python3.7/site-packages (from traitlets>=4.2->nbconvert) (4.4.0)\n",
      "Requirement already satisfied: jsonschema!=2.5.0,>=2.4 in /Users/hiretual/anaconda3/lib/python3.7/site-packages (from nbformat>=4.4->nbconvert) (3.0.1)\n",
      "Requirement already satisfied: webencodings in /Users/hiretual/anaconda3/lib/python3.7/site-packages (from bleach->nbconvert) (0.5.1)\n",
      "Requirement already satisfied: attrs>=17.4.0 in /Users/hiretual/anaconda3/lib/python3.7/site-packages (from jsonschema!=2.5.0,>=2.4->nbformat>=4.4->nbconvert) (19.1.0)\n",
      "Requirement already satisfied: pyrsistent>=0.14.0 in /Users/hiretual/anaconda3/lib/python3.7/site-packages (from jsonschema!=2.5.0,>=2.4->nbformat>=4.4->nbconvert) (0.14.11)\n",
      "Requirement already satisfied: setuptools in /Users/hiretual/anaconda3/lib/python3.7/site-packages (from jsonschema!=2.5.0,>=2.4->nbformat>=4.4->nbconvert) (40.8.0)\n",
      "Note: you may need to restart the kernel to use updated packages.\n"
     ]
    }
   ],
   "source": [
    "pip install nbconvert"
   ]
  },
  {
   "cell_type": "code",
   "execution_count": 80,
   "metadata": {},
   "outputs": [
    {
     "ename": "NameError",
     "evalue": "name 'xelatex' is not defined",
     "output_type": "error",
     "traceback": [
      "\u001b[0;31m---------------------------------------------------------------------------\u001b[0m",
      "\u001b[0;31mNameError\u001b[0m                                 Traceback (most recent call last)",
      "\u001b[0;32m<ipython-input-80-9311c28007bd>\u001b[0m in \u001b[0;36m<module>\u001b[0;34m\u001b[0m\n\u001b[0;32m----> 1\u001b[0;31m \u001b[0mxelatex\u001b[0m\u001b[0;34m\u001b[0m\u001b[0;34m\u001b[0m\u001b[0m\n\u001b[0m",
      "\u001b[0;31mNameError\u001b[0m: name 'xelatex' is not defined"
     ]
    }
   ],
   "source": []
  }
 ],
 "metadata": {
  "kernelspec": {
   "display_name": "Python 3",
   "language": "python",
   "name": "python3"
  },
  "language_info": {
   "codemirror_mode": {
    "name": "ipython",
    "version": 3
   },
   "file_extension": ".py",
   "mimetype": "text/x-python",
   "name": "python",
   "nbconvert_exporter": "python",
   "pygments_lexer": "ipython3",
   "version": "3.7.3"
  }
 },
 "nbformat": 4,
 "nbformat_minor": 2
}
